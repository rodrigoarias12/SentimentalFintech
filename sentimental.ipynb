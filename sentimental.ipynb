{
  "nbformat": 4,
  "nbformat_minor": 0,
  "metadata": {
    "colab": {
      "name": "sentimental.ipynb",
      "provenance": [],
      "collapsed_sections": [],
      "authorship_tag": "ABX9TyPeF0hyz4d2RC6HGFVmiWAR",
      "include_colab_link": true
    },
    "kernelspec": {
      "name": "python3",
      "display_name": "Python 3"
    }
  },
  "cells": [
    {
      "cell_type": "markdown",
      "metadata": {
        "id": "view-in-github",
        "colab_type": "text"
      },
      "source": [
        "<a href=\"https://colab.research.google.com/github/rodrigoarias12/SentimentalFintech/blob/master/sentimental.ipynb\" target=\"_parent\"><img src=\"https://colab.research.google.com/assets/colab-badge.svg\" alt=\"Open In Colab\"/></a>"
      ]
    },
    {
      "cell_type": "code",
      "metadata": {
        "id": "8LIIQgQknUnM",
        "colab_type": "code",
        "colab": {
          "base_uri": "https://localhost:8080/",
          "height": 384
        },
        "outputId": "ec1086be-52f6-4caa-98a4-799a134e78cc"
      },
      "source": [
        "!pip install spanish_sentiment_analysis"
      ],
      "execution_count": null,
      "outputs": [
        {
          "output_type": "stream",
          "text": [
            "Collecting spanish_sentiment_analysis\n",
            "\u001b[?25l  Downloading https://files.pythonhosted.org/packages/9f/7b/f9864d17910f3b6c9ed7b3a7cda279a76dcf9bc92a9282536d90dc789650/spanish_sentiment_analysis-1.0.0-py3-none-any.whl (15.8MB)\n",
            "\u001b[K     |████████████████████████████████| 15.8MB 312kB/s \n",
            "\u001b[?25hRequirement already satisfied: sklearn in /usr/local/lib/python3.6/dist-packages (from spanish_sentiment_analysis) (0.0)\n",
            "Requirement already satisfied: numpy in /usr/local/lib/python3.6/dist-packages (from spanish_sentiment_analysis) (1.18.5)\n",
            "Requirement already satisfied: scipy in /usr/local/lib/python3.6/dist-packages (from spanish_sentiment_analysis) (1.4.1)\n",
            "Collecting marisa-trie\n",
            "\u001b[?25l  Downloading https://files.pythonhosted.org/packages/20/95/d23071d0992dabcb61c948fb118a90683193befc88c23e745b050a29e7db/marisa-trie-0.7.5.tar.gz (270kB)\n",
            "\u001b[K     |████████████████████████████████| 276kB 53.0MB/s \n",
            "\u001b[?25hRequirement already satisfied: nltk in /usr/local/lib/python3.6/dist-packages (from spanish_sentiment_analysis) (3.2.5)\n",
            "Requirement already satisfied: scikit-learn in /usr/local/lib/python3.6/dist-packages (from sklearn->spanish_sentiment_analysis) (0.22.2.post1)\n",
            "Requirement already satisfied: six in /usr/local/lib/python3.6/dist-packages (from nltk->spanish_sentiment_analysis) (1.15.0)\n",
            "Requirement already satisfied: joblib>=0.11 in /usr/local/lib/python3.6/dist-packages (from scikit-learn->sklearn->spanish_sentiment_analysis) (0.16.0)\n",
            "Building wheels for collected packages: marisa-trie\n",
            "  Building wheel for marisa-trie (setup.py) ... \u001b[?25l\u001b[?25hdone\n",
            "  Created wheel for marisa-trie: filename=marisa_trie-0.7.5-cp36-cp36m-linux_x86_64.whl size=861278 sha256=2dc9853f40cf069d1c0ba523ab4f62f9e260262a9fecddbf8655ce5b2d9d6438\n",
            "  Stored in directory: /root/.cache/pip/wheels/45/24/79/022624fc914f0e559fe8a1141aaff1f9df810905a13fc75d57\n",
            "Successfully built marisa-trie\n",
            "Installing collected packages: marisa-trie, spanish-sentiment-analysis\n",
            "Successfully installed marisa-trie-0.7.5 spanish-sentiment-analysis-1.0.0\n"
          ],
          "name": "stdout"
        }
      ]
    },
    {
      "cell_type": "code",
      "metadata": {
        "id": "YlcyP8sXnzj-",
        "colab_type": "code",
        "colab": {}
      },
      "source": [
        "from classifier import *\n",
        "clf = SentimentClassifier()\n",
        "x = \"Esta muy horrible  esa pelicula\"\n",
        "\n",
        "print(x + ' ==> %.5f' % clf.predict(x))"
      ],
      "execution_count": null,
      "outputs": []
    },
    {
      "cell_type": "code",
      "metadata": {
        "id": "02-VKqaWrL1f",
        "colab_type": "code",
        "colab": {
          "base_uri": "https://localhost:8080/",
          "height": 1000
        },
        "outputId": "663450ed-82dc-4201-dfbf-ccc6ed754bb3"
      },
      "source": [
        "import tweepy as tw   \n",
        "consumer_key = 'QWUV0BL5kM3Y00iZ6ZFJFAM7O'\n",
        "consumer_secret = 'BRAB4oQQTOOkqWkxHbu7xFjCiIfCnHArm2YuRamR24wn1DKOiW'\n",
        "access_token = '2298825475-Z1QKtsizryQGlkdonhSFSDkWihPkFQR4GMjPi7I'\n",
        "access_token_secret = 'wyAKzcAAP2OJ6AKhjJzDSsShLFgraN6qe30OAAW7Wt78m'\n",
        "auth = tw.OAuthHandler(consumer_key, consumer_secret)\n",
        "auth.set_access_token(access_token, access_token_secret)\n",
        "api = tw.API(auth, wait_on_rate_limit=True)\n",
        "public_tweets = api.search('#bcra')\n",
        "emoji_pattern = re.compile(\"[\"\n",
        "        u\"\\U0001F600-\\U0001F64F\"  # emoticons\n",
        "        u\"\\U0001F300-\\U0001F5FF\"  # symbols & pictographs\n",
        "        u\"\\U0001F680-\\U0001F6FF\"  # transport & map symbols\n",
        "        u\"\\U0001F1E0-\\U0001F1FF\"  # flags (iOS)\n",
        "                           \"]+\", flags=re.UNICODE) ## to remove emojis from reviews\n",
        "for tweet in public_tweets:\n",
        "    #print(tweet.text)\n",
        "    twt = tweet.text\n",
        "    twt = twt.lower()\n",
        "    twt = re.sub('((www\\.[^\\s]+)|(https?://[^\\s]+))', 'URL', twt) # remove URLs\n",
        "    twt = re.sub('@[^\\s]+', 'AT_USER', twt) # remove usernames\n",
        "    twt = re.sub(r'#([^\\s]+)', r'\\1', twt) # remove the # in #hashtag\n",
        "    twt = re.sub('AT_USER', '', twt)\n",
        "    twt = re.sub('URL', '', twt)\n",
        "    twt = re.sub('rt', '', twt)\n",
        "    twt = emoji_pattern.sub(r'',twt)\n",
        "    print(twt + ' ==> %.5f' % clf.predict(twt))\n",
        "    #analysis = TextBlob(tweet.text)\n",
        "    #print(analysis.sentiment)\n",
        "    if clf.predict(twt)>0.2:\n",
        "        print ('Positive')\n",
        "    else:\n",
        "        print ('Negative')\n",
        "    print(\"\")"
      ],
      "execution_count": null,
      "outputs": [
        {
          "output_type": "stream",
          "text": [
            " usd:   $71.83  (0,20%)\n",
            " euro:   $83.72  (0,71%)\n",
            " gbp:   $91.91  (0,69%)\n",
            " real:   $13.72  (-0,22%)\n",
            " cad:…  ==> 0.18802\n",
            "Negative\n",
            "\n",
            " usd:   $71.83  (0,20%)\n",
            " euro:   $83.73  (0,72%)\n",
            " gbp:   $91.88  (0,66%)\n",
            " real:   $13.72  (-0,22%)\n",
            " cad:…  ==> 0.18802\n",
            "Negative\n",
            "\n",
            "  la renovada presión sobre el dólar y las reservas obliga al gobierno a acelerar definiciones! dolar bcra economia leelo… ==> 0.06602\n",
            "Negative\n",
            "\n",
            "  ¿cuál será el precio del dólar para fin de año?  dolar bcra leelo en:  (\"noticias… ==> 0.12610\n",
            "Negative\n",
            "\n",
            "¿cuál será el precio del dólar para fin de año?  dolar bcra leelo en:  (\"n…  ==> 0.12610\n",
            "Negative\n",
            "\n",
            "la renovada presión sobre el dólar y las reservas obliga al gobierno a acelerar definiciones! dolar bcra…  ==> 0.22129\n",
            "Positive\n",
            "\n",
            "¿te afectan las nuevas normativas del bcra? \n",
            "en su afán de frenar la fuga de reservas producto de la compra de…  ==> 0.03319\n",
            "Negative\n",
            "\n",
            "gentr como  y  quieren pesos. todavía no se que espera el bcra para levantar el cepo…  ==> 0.03831\n",
            "Negative\n",
            "\n",
            " usd:   $71.83  (0,20%)\n",
            " euro:   $83.73  (0,72%)\n",
            " gbp:   $91.88  (0,66%)\n",
            " real:   $13.72  (-0,22%)\n",
            " cad:…  ==> 0.18802\n",
            "Negative\n",
            "\n",
            " usd:   $71.83  (0,38%)\n",
            " euro:   $83.73  (0,72%)\n",
            " gbp:   $91.88  (0,66%)\n",
            " real:   $13.72  (-0,22%)\n",
            " cad:…  ==> 0.18802\n",
            "Negative\n",
            "\n",
            "dolar bcra colerosdigitales\n",
            " luego de cuatro ruedas consecutivas con aumentos (maes de $2, miércoles de $1 y…  ==> 0.00806\n",
            "Negative\n",
            "\n",
            "  ya lo había anticipado cuando los denuncié el 04 de abril de 2020. indagan a vanoli anses ) - falta pesce bcra ). fueron… ==> 0.00140\n",
            "Negative\n",
            "\n",
            "el bcra renovará los swap con china por us$ 18.500 millones\n",
            "\n",
            "  ==> 0.03616\n",
            "Negative\n",
            "\n",
            " usd:   $71.74  (0,07%)\n",
            " euro:   $83.5  (0,45%)\n",
            " gbp:   $91.75  (0,51%)\n",
            " real:   $13.79  (0,29%)\n",
            " cad:…  ==> 0.18802\n",
            "Negative\n",
            "\n",
            "mercado en alea: el banco central vuelve a perder divisas pese al \"súper cepo\"\n",
            "dolar bcra  ==> 0.03246\n",
            "Negative\n",
            "\n"
          ],
          "name": "stdout"
        }
      ]
    }
  ]
}
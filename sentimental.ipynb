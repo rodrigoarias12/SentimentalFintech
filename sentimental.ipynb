{
  "nbformat": 4,
  "nbformat_minor": 0,
  "metadata": {
    "colab": {
      "name": "sentimental.ipynb",
      "provenance": [],
      "collapsed_sections": [],
      "authorship_tag": "ABX9TyNiBESAQvnA+/pRZpMsbOvc",
      "include_colab_link": true
    },
    "kernelspec": {
      "name": "python3",
      "display_name": "Python 3"
    }
  },
  "cells": [
    {
      "cell_type": "markdown",
      "metadata": {
        "id": "view-in-github",
        "colab_type": "text"
      },
      "source": [
        "<a href=\"https://colab.research.google.com/github/rodrigoarias12/SentimentalFintech/blob/master/sentimental.ipynb\" target=\"_parent\"><img src=\"https://colab.research.google.com/assets/colab-badge.svg\" alt=\"Open In Colab\"/></a>"
      ]
    },
    {
      "cell_type": "code",
      "metadata": {
        "id": "8LIIQgQknUnM",
        "colab_type": "code",
        "colab": {}
      },
      "source": [
        "!pip install spanish_sentiment_analysis"
      ],
      "execution_count": null,
      "outputs": []
    },
    {
      "cell_type": "code",
      "metadata": {
        "id": "YlcyP8sXnzj-",
        "colab_type": "code",
        "colab": {}
      },
      "source": [
        "from classifier import *\n",
        "clf = SentimentClassifier()\n",
        "x = \"Esta muy horrible  esa pelicula\"\n",
        "\n",
        "print(x + ' ==> %.5f' % clf.predict(x))"
      ],
      "execution_count": null,
      "outputs": []
    },
    {
      "cell_type": "code",
      "metadata": {
        "id": "02-VKqaWrL1f",
        "colab_type": "code",
        "colab": {
          "base_uri": "https://localhost:8080/",
          "height": 711
        },
        "outputId": "43fb7fb5-859e-4e0d-d914-6779f04fb6b7"
      },
      "source": [
        "import tweepy as tw   \n",
        "consumer_key = 'QWUV0BL5kM3Y00iZ6ZFJFAM7O'\n",
        "consumer_secret = 'BRAB4oQQTOOkqWkxHbu7xFjCiIfCnHArm2YuRamR24wn1DKOiW'\n",
        "access_token = '2298825475-Z1QKtsizryQGlkdonhSFSDkWihPkFQR4GMjPi7I'\n",
        "access_token_secret = 'wyAKzcAAP2OJ6AKhjJzDSsShLFgraN6qe30OAAW7Wt78m'\n",
        "auth = tw.OAuthHandler(consumer_key, consumer_secret)\n",
        "auth.set_access_token(access_token, access_token_secret)\n",
        "api = tw.API(auth, wait_on_rate_limit=True)\n",
        "public_tweets = api.search('#mercadopago')\n",
        "emoji_pattern = re.compile(\"[\"\n",
        "        u\"\\U0001F600-\\U0001F64F\"  # emoticons\n",
        "        u\"\\U0001F300-\\U0001F5FF\"  # symbols & pictographs\n",
        "        u\"\\U0001F680-\\U0001F6FF\"  # transport & map symbols\n",
        "        u\"\\U0001F1E0-\\U0001F1FF\"  # flags (iOS)\n",
        "                           \"]+\", flags=re.UNICODE) ## to remove emojis from reviews\n",
        "for tweet in public_tweets:\n",
        "    #print(tweet.text)\n",
        "    twt = tweet.text\n",
        "    twt = twt.lower()\n",
        "    twt = re.sub('((www\\.[^\\s]+)|(https?://[^\\s]+))', 'URL', twt) # remove URLs\n",
        "    twt = re.sub('@[^\\s]+', 'AT_USER', twt) # remove usernames\n",
        "    twt = re.sub(r'#([^\\s]+)', r'\\1', twt) # remove the # in #hashtag\n",
        "    twt = re.sub('AT_USER', '', twt)\n",
        "    twt = re.sub('URL', '', twt)\n",
        "    twt = re.sub('rt', '', twt)\n",
        "    twt = emoji_pattern.sub(r'',twt)\n",
        "    print(twt + ' ==> %.5f' % clf.predict(twt))\n",
        "    #analysis = TextBlob(tweet.text)\n",
        "    #print(analysis.sentiment)\n",
        "    if clf.predict(twt)>0.2:\n",
        "        print ('Positive')\n",
        "    else:\n",
        "        print ('Negative')\n",
        "    print(\"\")"
      ],
      "execution_count": 5,
      "outputs": [
        {
          "output_type": "stream",
          "text": [
            " sigo esperando poder entrar a mi cuenta... mercadolibre y mercadopago, no puedo ni realizar compras. me…  ==> 0.16107\n",
            "Negative\n",
            "\n",
            " 3 meses demoran sus especialistas en analizar un caso? en serio? 🤣🤣🤣🤣. no sé que me molesta más, que n…  ==> 0.41613\n",
            "Positive\n",
            "\n",
            "  el 19/09 mi reclamo cumple 3 meses! 🥳 qué buen regalo  sería que me devuelvan el dinero, no…  ==> 0.32746\n",
            "Positive\n",
            "\n",
            " el 19/09 mi reclamo cumple 3 meses! 🥳 qué buen regalo  sería que me devuelvan el dinero, no? mercadopago ==> 0.26907\n",
            "Positive\n",
            "\n",
            "mercadopago qué pasa que no funciona? ==> 0.08023\n",
            "Negative\n",
            "\n",
            "a todos mis amigos!les pido un favor enorme. me pueden ayudar a repoar esta página como fraude?. yo realice una c…  ==> 0.02251\n",
            "Negative\n",
            "\n",
            "le quisimos dar un ayudín a todas las contadoras y contadores que queman sus neuronas para que nosotros los moale…  ==> 0.02163\n",
            "Negative\n",
            "\n",
            "entrenando sin descanso\n",
            "don team donteam muaythai muayboranimba clasesgrupales clasesonline zoom mercadopago…  ==> 0.35165\n",
            "Positive\n",
            "\n",
            " listo! me ha llegado un correo de ustedes y en efecto he podido entrar a la aplicación, pero a la aplicac…  ==> 0.50747\n",
            "Positive\n",
            "\n",
            "comodororivadavia remis debito credito mercadopago cuando necesites un remis, conta con migo. ahí voy a estar  ==> 0.42509\n",
            "Positive\n",
            "\n",
            "adveencia! me llamaron y mandaron whatsapp de este nro supuestamente de  ofreciendo el qr, pidiendo m…  ==> 0.22746\n",
            "Positive\n",
            "\n",
            "entra a nuestra tienda viual y conoces algunos de nuestros productos mercadolibre mercadopago mjjlara  ==> 0.75399\n",
            "Positive\n",
            "\n",
            " hola, es la segunda vez que intento y me rechaza la solicitud de autenticidad!!! me urge poder accesar a…  ==> 0.06488\n",
            "Negative\n",
            "\n"
          ],
          "name": "stdout"
        }
      ]
    }
  ]
}